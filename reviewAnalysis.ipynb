{
 "cells": [
  {
   "cell_type": "code",
   "execution_count": null,
   "id": "16ee49b2",
   "metadata": {},
   "outputs": [],
   "source": [
    "import pandas as pd\n",
    "\n",
    "# All Yelp JSON files loaded into pandas DataFrames.\n",
    "reviewDF = pd.read_json('yelp_academic_dataset_review.json', lines=True)\n",
    "\n",
    "# Display info on dataset\n",
    "print(\"\\nDataFrame Info:\")\n",
    "print(reviewDF.info())\n"
   ]
  },
  {
   "cell_type": "code",
   "execution_count": null,
   "id": "6c71f111",
   "metadata": {},
   "outputs": [],
   "source": [
    "# Drop any missing values\n",
    "reviewDF.dropna(inplace=True)\n",
    "\n",
    "# Normalize text data, and eliminate irrelevant characters\n",
    "reviewDF['text'] = reviewDF['text'].str.lower().str.replace('[^\\w\\s]', '')\n",
    "\n",
    "# Tokenize\n",
    "reviewDF['tokens'] = reviewDF['text'].apply(lambda x: x.split())\n",
    "\n",
    "# Remove stopwords\n",
    "stopwords = set(['is', 'the', 'to', 'and', 'of', 'in', 'this', 'it', 'that', 'a'])\n",
    "reviewDF['tokens'] = reviewDF['tokens'].apply(lambda x: [word for word in x if word not in stopwords])\n",
    "\n",
    "# Output preprocessed text\n",
    "print(\"\\nPreprocessed Text:\")\n",
    "print(reviewDF['tokens'].head())"
   ]
  }
 ],
 "metadata": {
  "kernelspec": {
   "display_name": "Python 3 (ipykernel)",
   "language": "python",
   "name": "python3"
  },
  "language_info": {
   "codemirror_mode": {
    "name": "ipython",
    "version": 3
   },
   "file_extension": ".py",
   "mimetype": "text/x-python",
   "name": "python",
   "nbconvert_exporter": "python",
   "pygments_lexer": "ipython3",
   "version": "3.11.5"
  }
 },
 "nbformat": 4,
 "nbformat_minor": 5
}
